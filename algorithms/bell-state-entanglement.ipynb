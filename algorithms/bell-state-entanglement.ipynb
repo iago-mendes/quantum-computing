{
 "cells": [
  {
   "cell_type": "markdown",
   "id": "9dc0a528",
   "metadata": {},
   "source": [
    "# Bell States & Entanglement\n",
    "\n",
    "Here, we prepare two quantum states:\n",
    "$$ | \\psi_{00} \\rangle_1 = \\hat C_{10} \\hat H_1 | 00 \\rangle =  \\frac{1}{\\sqrt{2}} ( | 00 \\rangle + | 11 \\rangle ) $$\n",
    "(one of Bell's states) and\n",
    "$$ | \\phi_{00} \\rangle_2 = \\hat H_1 \\hat H_0 | 00 \\rangle = \\frac{1}{2} ( | 00 \\rangle + | 01 \\rangle + | 10 \\rangle + | 11 \\rangle ). $$\n",
    "\n",
    "Then, we measure $\\hat Z_1 \\hat Z_0$ and $\\hat Z_1 \\hat I_0$ in both states. The expected values are\n",
    "$$ \\langle ZZ \\rangle_1 = 1 $$\n",
    "(measure of entanglement) and\n",
    "$$ \\langle ZI \\rangle_1 = \\langle ZZ \\rangle_2 = \\langle ZI \\rangle_2 = 0. $$"
   ]
  },
  {
   "cell_type": "code",
   "execution_count": 3,
   "id": "6a83d4bd",
   "metadata": {},
   "outputs": [],
   "source": [
    "from qiskit import QuantumCircuit, transpile\n",
    "from qiskit.quantum_info import Pauli\n",
    "from qiskit_aer.primitives import Estimator as FakeEstimator\n",
    "from qiskit_ibm_runtime import QiskitRuntimeService, EstimatorV2 as RealEstimator\n",
    "\n",
    "service = QiskitRuntimeService()\n",
    "backend = service.least_busy(simulator=False, operational=True)"
   ]
  },
  {
   "cell_type": "code",
   "execution_count": null,
   "id": "b43737a6",
   "metadata": {},
   "outputs": [
    {
     "data": {
      "text/html": [
       "<pre style=\"word-wrap: normal;white-space: pre;background: #fff0;line-height: 1.1;font-family: &quot;Courier New&quot;,Courier,monospace\">     ┌───┐     \n",
       "q_0: ┤ H ├──■──\n",
       "     └───┘┌─┴─┐\n",
       "q_1: ─────┤ X ├\n",
       "          └───┘</pre>"
      ],
      "text/plain": [
       "     ┌───┐     \n",
       "q_0: ┤ H ├──■──\n",
       "     └───┘┌─┴─┐\n",
       "q_1: ─────┤ X ├\n",
       "          └───┘"
      ]
     },
     "execution_count": 5,
     "metadata": {},
     "output_type": "execute_result"
    }
   ],
   "source": [
    "# Prepare state CH|00>\n",
    "\n",
    "qc1 = QuantumCircuit(2)\n",
    "\n",
    "qc1.h(0)\n",
    "qc1.cx(0, 1)\n",
    "\n",
    "qc1.draw()"
   ]
  },
  {
   "cell_type": "code",
   "execution_count": 6,
   "id": "41c29513",
   "metadata": {},
   "outputs": [
    {
     "data": {
      "text/html": [
       "<pre style=\"word-wrap: normal;white-space: pre;background: #fff0;line-height: 1.1;font-family: &quot;Courier New&quot;,Courier,monospace\">global phase: 3π/4\n",
       "         ┌─────────┐┌────┐          ┌──────┐┌───┐\n",
       "q_0 -> 0 ┤ Rz(π/2) ├┤ √X ├──────────┤0     ├┤ X ├\n",
       "         └┬────────┤├────┤┌────────┐│  Ecr │└───┘\n",
       "q_1 -> 1 ─┤ Rz(-π) ├┤ √X ├┤ Rz(-π) ├┤1     ├─────\n",
       "          └────────┘└────┘└────────┘└──────┘     </pre>"
      ],
      "text/plain": [
       "global phase: 3π/4\n",
       "         ┌─────────┐┌────┐          ┌──────┐┌───┐\n",
       "q_0 -> 0 ┤ Rz(π/2) ├┤ √X ├──────────┤0     ├┤ X ├\n",
       "         └┬────────┤├────┤┌────────┐│  Ecr │└───┘\n",
       "q_1 -> 1 ─┤ Rz(-π) ├┤ √X ├┤ Rz(-π) ├┤1     ├─────\n",
       "          └────────┘└────┘└────────┘└──────┘     "
      ]
     },
     "execution_count": 6,
     "metadata": {},
     "output_type": "execute_result"
    }
   ],
   "source": [
    "# Optimize for real quantum computer\n",
    "\n",
    "isa_circuit1 = transpile(qc1, backend=backend, optimization_level=1)\n",
    "isa_circuit1.draw()"
   ]
  },
  {
   "cell_type": "code",
   "execution_count": 7,
   "id": "92177f7d",
   "metadata": {},
   "outputs": [
    {
     "data": {
      "text/html": [
       "<pre style=\"word-wrap: normal;white-space: pre;background: #fff0;line-height: 1.1;font-family: &quot;Courier New&quot;,Courier,monospace\">     ┌───┐\n",
       "q_0: ┤ H ├\n",
       "     ├───┤\n",
       "q_1: ┤ H ├\n",
       "     └───┘</pre>"
      ],
      "text/plain": [
       "     ┌───┐\n",
       "q_0: ┤ H ├\n",
       "     ├───┤\n",
       "q_1: ┤ H ├\n",
       "     └───┘"
      ]
     },
     "execution_count": 7,
     "metadata": {},
     "output_type": "execute_result"
    }
   ],
   "source": [
    "# Prepare state HH|00>\n",
    "\n",
    "qc2 = QuantumCircuit(2)\n",
    "\n",
    "qc2.h(0)\n",
    "qc2.h(1)\n",
    "\n",
    "qc2.draw()"
   ]
  },
  {
   "cell_type": "code",
   "execution_count": 8,
   "id": "f5fa4cc6",
   "metadata": {},
   "outputs": [
    {
     "data": {
      "text/html": [
       "<pre style=\"word-wrap: normal;white-space: pre;background: #fff0;line-height: 1.1;font-family: &quot;Courier New&quot;,Courier,monospace\">global phase: π/2\n",
       "         ┌─────────┐┌────┐┌─────────┐\n",
       "q_0 -> 0 ┤ Rz(π/2) ├┤ √X ├┤ Rz(π/2) ├\n",
       "         ├─────────┤├────┤├─────────┤\n",
       "q_1 -> 1 ┤ Rz(π/2) ├┤ √X ├┤ Rz(π/2) ├\n",
       "         └─────────┘└────┘└─────────┘</pre>"
      ],
      "text/plain": [
       "global phase: π/2\n",
       "         ┌─────────┐┌────┐┌─────────┐\n",
       "q_0 -> 0 ┤ Rz(π/2) ├┤ √X ├┤ Rz(π/2) ├\n",
       "         ├─────────┤├────┤├─────────┤\n",
       "q_1 -> 1 ┤ Rz(π/2) ├┤ √X ├┤ Rz(π/2) ├\n",
       "         └─────────┘└────┘└─────────┘"
      ]
     },
     "execution_count": 8,
     "metadata": {},
     "output_type": "execute_result"
    }
   ],
   "source": [
    "# Optimize for real quantum computer\n",
    "\n",
    "isa_circuit2 = transpile(qc2, backend=backend, optimization_level=1)\n",
    "isa_circuit2.draw()"
   ]
  },
  {
   "cell_type": "code",
   "execution_count": 9,
   "id": "5aa1aa40",
   "metadata": {},
   "outputs": [],
   "source": [
    "# Set up observables\n",
    "\n",
    "ZZ = Pauli('ZZ')\n",
    "ZI = Pauli('ZI')"
   ]
  },
  {
   "cell_type": "code",
   "execution_count": 25,
   "id": "45e7ce81",
   "metadata": {},
   "outputs": [
    {
     "name": "stdout",
     "output_type": "stream",
     "text": [
      "shots = 1024\n",
      "\n",
      "<ZZ>_1 = 1.0\n",
      "<ZI>_1 = -0.029296875\n",
      "<ZZ>_2 = -0.021484375\n",
      "<ZI>_2 = -0.021484375\n"
     ]
    }
   ],
   "source": [
    "# Run in a simulation\n",
    "\n",
    "fake_estimator = FakeEstimator()\n",
    "\n",
    "fake_job = fake_estimator.run(\n",
    "  [qc1, qc1, qc2, qc2],\n",
    "  [ ZZ,  ZI,  ZZ,  ZI]\n",
    ")\n",
    "\n",
    "fake_result = fake_job.result()\n",
    "print(f'shots = {fake_result.metadata[0]['shots']}')\n",
    "print()\n",
    "print(f'<ZZ>_1 = {fake_result.values[0]}')\n",
    "print(f'<ZI>_1 = {fake_result.values[1]}')\n",
    "print(f'<ZZ>_2 = {fake_result.values[2]}')\n",
    "print(f'<ZI>_2 = {fake_result.values[2]}')\n"
   ]
  },
  {
   "cell_type": "code",
   "execution_count": null,
   "id": "9d84f426",
   "metadata": {},
   "outputs": [
    {
     "name": "stdout",
     "output_type": "stream",
     "text": [
      "Job ID: czs28ptnhqag008sqf30\n"
     ]
    }
   ],
   "source": [
    "# Run in a real quantum computer\n",
    "\n",
    "real_estimator = RealEstimator(mode=backend)\n",
    "\n",
    "real_job = real_estimator.run([\n",
    "  (isa_circuit1, ZZ.apply_layout(isa_circuit1.layout)),\n",
    "  (isa_circuit1, ZI.apply_layout(isa_circuit1.layout)),\n",
    "  (isa_circuit2, ZZ.apply_layout(isa_circuit2.layout)),\n",
    "  (isa_circuit2, ZI.apply_layout(isa_circuit2.layout))\n",
    "])\n",
    "\n",
    "print(f\"Job ID: {real_job.job_id()}\")"
   ]
  },
  {
   "cell_type": "code",
   "execution_count": null,
   "id": "a60277fe",
   "metadata": {},
   "outputs": [
    {
     "name": "stdout",
     "output_type": "stream",
     "text": [
      "shots = 4096\n",
      "\n",
      "<ZZ>_1 = 0.9957168052406148\n",
      "<ZI>_1 = -0.0177449168207024\n",
      "<ZZ>_2 = 0.013605442176870748\n",
      "<ZI>_2 = 0.012322858903265557\n"
     ]
    }
   ],
   "source": [
    "# Show result from real quantum computer\n",
    "\n",
    "real_result = real_job.result()\n",
    "\n",
    "print(f'shots = {real_result[0].metadata['shots']}')\n",
    "print()\n",
    "print(f'<ZZ>_1 = {real_result[0].data.evs}')\n",
    "print(f'<ZI>_1 = {real_result[1].data.evs}')\n",
    "print(f'<ZZ>_2 = {real_result[2].data.evs}')\n",
    "print(f'<ZI>_2 = {real_result[3].data.evs}')"
   ]
  }
 ],
 "metadata": {
  "kernelspec": {
   "display_name": "Qiskit",
   "language": "python",
   "name": "python3"
  },
  "language_info": {
   "codemirror_mode": {
    "name": "ipython",
    "version": 3
   },
   "file_extension": ".py",
   "mimetype": "text/x-python",
   "name": "python",
   "nbconvert_exporter": "python",
   "pygments_lexer": "ipython3",
   "version": "3.13.2"
  }
 },
 "nbformat": 4,
 "nbformat_minor": 5
}
