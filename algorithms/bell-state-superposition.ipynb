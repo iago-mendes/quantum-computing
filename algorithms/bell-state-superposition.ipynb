{
 "cells": [
  {
   "cell_type": "code",
   "execution_count": null,
   "id": "9c885c93",
   "metadata": {},
   "outputs": [],
   "source": [
    "from qiskit import QuantumCircuit\n",
    "from qiskit_aer import AerSimulator as Simulator"
   ]
  },
  {
   "cell_type": "code",
   "execution_count": 2,
   "id": "d5398d27",
   "metadata": {},
   "outputs": [
    {
     "data": {
      "text/html": [
       "<pre style=\"word-wrap: normal;white-space: pre;background: #fff0;line-height: 1.1;font-family: &quot;Courier New&quot;,Courier,monospace\">        ┌───┐           ░ ┌─┐      \n",
       "   q_0: ┤ H ├──■────────░─┤M├──────\n",
       "        └───┘┌─┴─┐      ░ └╥┘┌─┐   \n",
       "   q_1: ─────┤ X ├──■───░──╫─┤M├───\n",
       "             └───┘┌─┴─┐ ░  ║ └╥┘┌─┐\n",
       "   q_2: ──────────┤ X ├─░──╫──╫─┤M├\n",
       "                  └───┘ ░  ║  ║ └╥┘\n",
       "meas: 3/═══════════════════╩══╩══╩═\n",
       "                           0  1  2 </pre>"
      ],
      "text/plain": [
       "        ┌───┐           ░ ┌─┐      \n",
       "   q_0: ┤ H ├──■────────░─┤M├──────\n",
       "        └───┘┌─┴─┐      ░ └╥┘┌─┐   \n",
       "   q_1: ─────┤ X ├──■───░──╫─┤M├───\n",
       "             └───┘┌─┴─┐ ░  ║ └╥┘┌─┐\n",
       "   q_2: ──────────┤ X ├─░──╫──╫─┤M├\n",
       "                  └───┘ ░  ║  ║ └╥┘\n",
       "meas: 3/═══════════════════╩══╩══╩═\n",
       "                           0  1  2 "
      ]
     },
     "execution_count": 2,
     "metadata": {},
     "output_type": "execute_result"
    }
   ],
   "source": [
    "qc = QuantumCircuit(3)\n",
    "\n",
    "qc.h(0)\n",
    "qc.cx(0, 1)\n",
    "qc.cx(1, 2)\n",
    "\n",
    "qc.measure_all()\n",
    "\n",
    "qc.draw()"
   ]
  },
  {
   "cell_type": "code",
   "execution_count": 9,
   "id": "8b7a212f",
   "metadata": {},
   "outputs": [
    {
     "name": "stdout",
     "output_type": "stream",
     "text": [
      "100 shots -> {'111': 53, '000': 47}\n",
      "1000 shots -> {'000': 471, '111': 529}\n",
      "10000 shots -> {'000': 4985, '111': 5015}\n",
      "100000 shots -> {'111': 50082, '000': 49918}\n",
      "1000000 shots -> {'000': 499899, '111': 500101}\n"
     ]
    }
   ],
   "source": [
    "backend = Simulator()\n",
    "\n",
    "for shots in [1e2, 1e3, 1e4, 1e5, 1e6]:\n",
    "  shots = int(shots)\n",
    "  job = backend.run(qc, shots = shots)\n",
    "  counts = job.result().get_counts(qc)\n",
    "  print(f'{shots} shots -> {counts}')"
   ]
  }
 ],
 "metadata": {
  "kernelspec": {
   "display_name": "Qiskit",
   "language": "python",
   "name": "python3"
  },
  "language_info": {
   "codemirror_mode": {
    "name": "ipython",
    "version": 3
   },
   "file_extension": ".py",
   "mimetype": "text/x-python",
   "name": "python",
   "nbconvert_exporter": "python",
   "pygments_lexer": "ipython3",
   "version": "3.13.2"
  }
 },
 "nbformat": 4,
 "nbformat_minor": 5
}
